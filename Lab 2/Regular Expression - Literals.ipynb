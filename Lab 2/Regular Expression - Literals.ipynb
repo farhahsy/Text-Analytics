{
 "cells": [
  {
   "cell_type": "code",
   "execution_count": 1,
   "id": "dd75048d",
   "metadata": {},
   "outputs": [],
   "source": [
    "#importing regular expression library\n",
    "import re"
   ]
  },
  {
   "cell_type": "code",
   "execution_count": 2,
   "id": "5acdc84d",
   "metadata": {},
   "outputs": [
    {
     "name": "stdout",
     "output_type": "stream",
     "text": [
      "<re.Match object; span=(0, 1), match='I'>\n"
     ]
    }
   ],
   "source": [
    "#using re.match\n",
    "#to find the first occurrence of the letter 'I' in the string\n",
    "sentence1 = re.match (r'I', 'I am learning text analytics')\n",
    "\n",
    "print (sentence1)"
   ]
  },
  {
   "cell_type": "code",
   "execution_count": 3,
   "id": "1bf8a46d",
   "metadata": {},
   "outputs": [
    {
     "name": "stdout",
     "output_type": "stream",
     "text": [
      "None\n"
     ]
    }
   ],
   "source": [
    "#using re.match\n",
    "#to find the first occurrence of the letter 'v' in the string\n",
    "sentence2 = re.match (r'v', 'I am learning text analytics') \n",
    "\n",
    "print (sentence2)"
   ]
  },
  {
   "cell_type": "code",
   "execution_count": 4,
   "id": "7d025121",
   "metadata": {},
   "outputs": [
    {
     "name": "stdout",
     "output_type": "stream",
     "text": [
      "None\n"
     ]
    }
   ],
   "source": [
    "#using re.match\n",
    "#to find the first occurrence of the letter 'am' in the string\n",
    "sentence3 = re.match (r'am', 'I am learning text analytics') \n",
    "\n",
    "print (sentence3)"
   ]
  },
  {
   "cell_type": "code",
   "execution_count": 5,
   "id": "34aa0e25",
   "metadata": {},
   "outputs": [
    {
     "name": "stdout",
     "output_type": "stream",
     "text": [
      "<re.Match object; span=(2, 4), match='am'>\n"
     ]
    }
   ],
   "source": [
    "#using re.search\n",
    "#to find the first occurrence of a pattern in a string regardless of the location\n",
    "sentence4 = re.search(r'am', 'I am learning text analytics') \n",
    "\n",
    "print (sentence4)"
   ]
  },
  {
   "cell_type": "code",
   "execution_count": 6,
   "id": "7720c79b",
   "metadata": {},
   "outputs": [
    {
     "name": "stdout",
     "output_type": "stream",
     "text": [
      "<re.Match object; span=(2, 4), match='am'>\n"
     ]
    }
   ],
   "source": [
    "#using re.search\n",
    "#to find the first occurrence of a pattern in a string regardless of the location\n",
    "sentence5 = re.search(r'am', 'I am learning text analytics and am enjoying it')\n",
    "\n",
    "print (sentence5)"
   ]
  },
  {
   "cell_type": "code",
   "execution_count": 7,
   "id": "5cfd7f16",
   "metadata": {},
   "outputs": [
    {
     "name": "stdout",
     "output_type": "stream",
     "text": [
      "['am', 'am']\n"
     ]
    }
   ],
   "source": [
    "#using re.findall\n",
    "#to find all of the occurrences of a pattern in a string\n",
    "sentence6 = re.findall(r'am', 'I am learning text analytics and am enjoying it')\n",
    "\n",
    "print (sentence6)"
   ]
  },
  {
   "cell_type": "code",
   "execution_count": 8,
   "id": "996f9e83",
   "metadata": {},
   "outputs": [
    {
     "name": "stdout",
     "output_type": "stream",
     "text": [
      "['I am learning text analytics ', ' am enjoying it']\n"
     ]
    }
   ],
   "source": [
    "#using re.split\n",
    "#to split a string by the occurrence of a given pattern\n",
    "sentence7 = re.split(r'and', 'I am learning text analytics and am enjoying it')\n",
    "\n",
    "print (sentence7)"
   ]
  },
  {
   "cell_type": "code",
   "execution_count": 9,
   "id": "b4abd900",
   "metadata": {},
   "outputs": [
    {
     "name": "stdout",
     "output_type": "stream",
     "text": [
      "['I ', ' learning text analytics and ', ' enjoying it']\n"
     ]
    }
   ],
   "source": [
    "#using re.split\n",
    "#to split a string by the occurrence of a given pattern\n",
    "sentence8 = re.split(r'am', 'I am learning text analytics and am enjoying it')\n",
    "\n",
    "print (sentence8)"
   ]
  },
  {
   "cell_type": "code",
   "execution_count": 10,
   "id": "e7b8f9be",
   "metadata": {},
   "outputs": [
    {
     "name": "stdout",
     "output_type": "stream",
     "text": [
      "['I ', ' learning text analytics and am enjoying it']\n"
     ]
    }
   ],
   "source": [
    "#using re.split\n",
    "#to split a string by the occurrence of a given pattern\n",
    "sentence9 = re.split(r'am', 'I am learning text analytics and am enjoying it', maxsplit=1)\n",
    "\n",
    "print (sentence9)"
   ]
  },
  {
   "cell_type": "code",
   "execution_count": 11,
   "id": "484edce0",
   "metadata": {},
   "outputs": [
    {
     "name": "stdout",
     "output_type": "stream",
     "text": [
      "['I ', ' learning text analytics and ', ' enjoying it']\n"
     ]
    }
   ],
   "source": [
    "#using re.split\n",
    "#to split a string by the occurrence of a given pattern\n",
    "sentence9 = re.split(r'am', 'I am learning text analytics and am enjoying it', maxsplit=2)\n",
    "\n",
    "print (sentence9)"
   ]
  },
  {
   "cell_type": "code",
   "execution_count": 12,
   "id": "00c36535",
   "metadata": {},
   "outputs": [
    {
     "name": "stdout",
     "output_type": "stream",
     "text": [
      "['I ', ' learning text analytics, I ', ' enjoying it and I ', ' going to ace it']\n"
     ]
    }
   ],
   "source": [
    "#using re.split\n",
    "#to split a string by the occurrence of a given pattern\n",
    "sentence10 = re.split(r'am', 'I am learning text analytics, I am enjoying it and I am going to ace it', maxsplit=3)\n",
    "\n",
    "print (sentence10)"
   ]
  },
  {
   "cell_type": "code",
   "execution_count": 13,
   "id": "6f29b60f",
   "metadata": {},
   "outputs": [
    {
     "name": "stdout",
     "output_type": "stream",
     "text": [
      "we like text analytics and we enjoy learning it\n"
     ]
    }
   ],
   "source": [
    "#using re.sub\n",
    "#to find the occurrence of a given pattern in a string and replace with a new value\n",
    "sentence11 = re.sub(r'I', 'we', 'I like text analytics and I enjoy learning it')\n",
    "\n",
    "print (sentence11)"
   ]
  },
  {
   "cell_type": "code",
   "execution_count": null,
   "id": "49573c37",
   "metadata": {},
   "outputs": [],
   "source": []
  }
 ],
 "metadata": {
  "kernelspec": {
   "display_name": "Python 3 (ipykernel)",
   "language": "python",
   "name": "python3"
  },
  "language_info": {
   "codemirror_mode": {
    "name": "ipython",
    "version": 3
   },
   "file_extension": ".py",
   "mimetype": "text/x-python",
   "name": "python",
   "nbconvert_exporter": "python",
   "pygments_lexer": "ipython3",
   "version": "3.11.5"
  }
 },
 "nbformat": 4,
 "nbformat_minor": 5
}
