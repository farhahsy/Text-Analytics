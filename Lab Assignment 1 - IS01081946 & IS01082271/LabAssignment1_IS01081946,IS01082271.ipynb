{
 "cells": [
  {
   "cell_type": "code",
   "execution_count": 1,
   "id": "13011503",
   "metadata": {},
   "outputs": [],
   "source": [
    "#import all the necessary modules\n",
    "\n",
    "import re\n",
    "import json\n",
    "import requests\n",
    "import csv\n",
    "from datetime import datetime"
   ]
  },
  {
   "cell_type": "code",
   "execution_count": 4,
   "id": "f7caaf0a",
   "metadata": {},
   "outputs": [],
   "source": [
    "#shopee url\n",
    "url = \"https://shopee.com.my/Mossdoom-Simple-Style-Women's-Underarm-Bag-Shoulder-Bag-Women-i.1068445776.22355864310?sp_atk=3ae44dfa-bc82-45c3-9d77-2ae4acb31712&xptdk=3ae44dfa-bc82-45c3-9d77-2ae4acb31712\"\n",
    "\n",
    "#extract IDs from url\n",
    "r = re.search(r'i\\.(\\d+)\\.(\\d+)', url)\n",
    "\n",
    "#extract the matched groups from the url\n",
    "if r:\n",
    "    shop_id, item_id = r.group(1), r.group(2)\n",
    "else:\n",
    "    print(\"Invalid URL\")\n",
    "    exit()\n",
    "\n",
    "offset = 0"
   ]
  },
  {
   "cell_type": "code",
   "execution_count": null,
   "id": "e9a970db",
   "metadata": {},
   "outputs": [],
   "source": [
    "# Open the CSV file in write mode\n",
    "with open('shopee_ratings.csv', 'w', newline='', encoding='utf-8') as csvfile:\n",
    "    fieldnames = ['Date', 'Author', 'Comment']  # Define the field names for CSV\n",
    "    writer = csv.DictWriter(csvfile, fieldnames=fieldnames)\n",
    "\n",
    "    # Write header row to CSV\n",
    "    writer.writeheader()\n",
    "\n",
    "    # Loop to fetch ratings data\n",
    "    while True:\n",
    "        ratings_url = f'https://shopee.com.my/api/v2/item/get_ratings?filter=0&flag=1&itemid={item_id}&limit=20&offset={offset}&shopid={shop_id}&type=0'\n",
    "        data = requests.get(ratings_url).json()\n",
    "\n",
    "        # Write each rating to CSV\n",
    "        for rating in data['data']['ratings']:\n",
    "            date_str = rating['ctime']  # Assuming 'ctime' contains the date as a string\n",
    "            date = datetime.fromtimestamp(int(date_str))\n",
    "            writer.writerow({'Date': date.strftime('%Y-%m-%d'), 'Author': rating['author_username'], 'Comment': rating['comment']})\n",
    "\n",
    "        if len(data['data']['ratings']) < 20:\n",
    "            break\n",
    "\n",
    "        offset += 20\n",
    "\n",
    "print(\"Data saved to shopee_ratingsatings.csv\")"
   ]
  }
 ],
 "metadata": {
  "kernelspec": {
   "display_name": "Python 3 (ipykernel)",
   "language": "python",
   "name": "python3"
  },
  "language_info": {
   "codemirror_mode": {
    "name": "ipython",
    "version": 3
   },
   "file_extension": ".py",
   "mimetype": "text/x-python",
   "name": "python",
   "nbconvert_exporter": "python",
   "pygments_lexer": "ipython3",
   "version": "3.11.5"
  }
 },
 "nbformat": 4,
 "nbformat_minor": 5
}
